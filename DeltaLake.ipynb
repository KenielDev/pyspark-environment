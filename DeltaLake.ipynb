{
  "nbformat": 4,
  "nbformat_minor": 0,
  "metadata": {
    "colab": {
      "provenance": [],
      "authorship_tag": "ABX9TyO85loOGN6JM1q6WnaItqNk",
      "include_colab_link": true
    },
    "kernelspec": {
      "name": "python3",
      "display_name": "Python 3"
    },
    "language_info": {
      "name": "python"
    }
  },
  "cells": [
    {
      "cell_type": "markdown",
      "metadata": {
        "id": "view-in-github",
        "colab_type": "text"
      },
      "source": [
        "<a href=\"https://colab.research.google.com/github/KenielDev/pyspark-environment/blob/main/DeltaLake.ipynb\" target=\"_parent\"><img src=\"https://colab.research.google.com/assets/colab-badge.svg\" alt=\"Open In Colab\"/></a>"
      ]
    },
    {
      "cell_type": "code",
      "execution_count": 2,
      "metadata": {
        "colab": {
          "base_uri": "https://localhost:8080/"
        },
        "id": "nrc4IX65ypMc",
        "outputId": "84a73002-55d6-49fb-9492-545aea7af59e"
      },
      "outputs": [
        {
          "output_type": "stream",
          "name": "stdout",
          "text": [
            "Collecting pyspark\n",
            "  Downloading pyspark-3.5.1.tar.gz (317.0 MB)\n",
            "\u001b[2K     \u001b[90m━━━━━━━━━━━━━━━━━━━━━━━━━━━━━━━━━━━━━━━━\u001b[0m \u001b[32m317.0/317.0 MB\u001b[0m \u001b[31m2.3 MB/s\u001b[0m eta \u001b[36m0:00:00\u001b[0m\n",
            "\u001b[?25h  Preparing metadata (setup.py) ... \u001b[?25l\u001b[?25hdone\n",
            "Requirement already satisfied: py4j==0.10.9.7 in /usr/local/lib/python3.10/dist-packages (from pyspark) (0.10.9.7)\n",
            "Building wheels for collected packages: pyspark\n",
            "  Building wheel for pyspark (setup.py) ... \u001b[?25l\u001b[?25hdone\n",
            "  Created wheel for pyspark: filename=pyspark-3.5.1-py2.py3-none-any.whl size=317488491 sha256=5bb191ca04d948a03c2bd283574c1a99f4ee2f20be501cce8d5a5c5b8a4ade2e\n",
            "  Stored in directory: /root/.cache/pip/wheels/80/1d/60/2c256ed38dddce2fdd93be545214a63e02fbd8d74fb0b7f3a6\n",
            "Successfully built pyspark\n",
            "Installing collected packages: pyspark\n",
            "Successfully installed pyspark-3.5.1\n"
          ]
        }
      ],
      "source": [
        "# Instalação do PySpark\n",
        "!pip install pyspark\n",
        "\n",
        "# Configuração do ambiente Spark\n",
        "from pyspark.sql import SparkSession\n",
        "\n",
        "spark = SparkSession.builder \\\n",
        "    .appName(\"PySpark with Delta Lake and Iceberg\") \\\n",
        "    .config(\"spark.jars.packages\", \"io.delta:delta-core_2.12:1.1.0,org.apache.iceberg:iceberg-spark3-runtime:0.12.0\") \\\n",
        "    .config(\"spark.sql.extensions\", \"io.delta.sql.DeltaSparkSessionExtension\") \\\n",
        "    .config(\"spark.sql.catalog.spark_catalog\", \"org.apache.iceberg.spark.SparkSessionCatalog\") \\\n",
        "    .config(\"spark.sql.catalog.spark_catalog.type\", \"hive\") \\\n",
        "    .enableHiveSupport() \\\n",
        "    .getOrCreate()\n"
      ]
    },
    {
      "cell_type": "code",
      "source": [
        "from google.colab import drive\n",
        "drive.mount('/content/drive')"
      ],
      "metadata": {
        "id": "pAbEGh24461L"
      },
      "execution_count": null,
      "outputs": []
    },
    {
      "cell_type": "code",
      "source": [
        "# Teste do Spark\n",
        "spark.range(5).toDF(\"id\").show()\n"
      ],
      "metadata": {
        "colab": {
          "base_uri": "https://localhost:8080/"
        },
        "id": "88z2__l_zLhj",
        "outputId": "92b94f71-b857-49d5-f185-f77d36913e4b"
      },
      "execution_count": null,
      "outputs": [
        {
          "output_type": "stream",
          "name": "stdout",
          "text": [
            "+---+\n",
            "| id|\n",
            "+---+\n",
            "|  0|\n",
            "|  1|\n",
            "|  2|\n",
            "|  3|\n",
            "|  4|\n",
            "+---+\n",
            "\n"
          ]
        }
      ]
    },
    {
      "cell_type": "code",
      "source": [
        "# Instalação do Delta Lake\n",
        "!pip install delta-spark"
      ],
      "metadata": {
        "colab": {
          "base_uri": "https://localhost:8080/"
        },
        "id": "k8q2aVz-3otb",
        "outputId": "91cf4383-36d7-4dd6-a895-44d42fd52b94"
      },
      "execution_count": null,
      "outputs": [
        {
          "output_type": "stream",
          "name": "stdout",
          "text": [
            "Requirement already satisfied: delta-spark in /usr/local/lib/python3.10/dist-packages (3.1.0)\n",
            "Requirement already satisfied: pyspark<3.6.0,>=3.5.0 in /usr/local/lib/python3.10/dist-packages (from delta-spark) (3.5.1)\n",
            "Requirement already satisfied: importlib-metadata>=1.0.0 in /usr/local/lib/python3.10/dist-packages (from delta-spark) (7.1.0)\n",
            "Requirement already satisfied: zipp>=0.5 in /usr/local/lib/python3.10/dist-packages (from importlib-metadata>=1.0.0->delta-spark) (3.18.1)\n",
            "Requirement already satisfied: py4j==0.10.9.7 in /usr/local/lib/python3.10/dist-packages (from pyspark<3.6.0,>=3.5.0->delta-spark) (0.10.9.7)\n",
            "\u001b[33mWARNING: Running pip as the 'root' user can result in broken permissions and conflicting behaviour with the system package manager. It is recommended to use a virtual environment instead: https://pip.pypa.io/warnings/venv\u001b[0m\u001b[33m\n",
            "\u001b[0m"
          ]
        }
      ]
    },
    {
      "cell_type": "code",
      "source": [
        "# Instalação do Apache Iceberg para o Spark disponível no Colab\n",
        "!pip install iceberg"
      ],
      "metadata": {
        "colab": {
          "base_uri": "https://localhost:8080/"
        },
        "id": "6pi5w9mg5PQO",
        "outputId": "f00ca0af-09b2-42b0-eeb8-10f7cc2532d7"
      },
      "execution_count": null,
      "outputs": [
        {
          "output_type": "stream",
          "name": "stdout",
          "text": [
            "Collecting iceberg\n",
            "  Downloading iceberg-0.4.tar.gz (17 kB)\n",
            "  Preparing metadata (setup.py) ... \u001b[?25l\u001b[?25hdone\n",
            "Collecting radical.entk (from iceberg)\n",
            "  Downloading radical_entk-1.52.0.tar.gz (64 kB)\n",
            "\u001b[2K     \u001b[90m━━━━━━━━━━━━━━━━━━━━━━━━━━━━━━━━━━━━━━━━\u001b[0m \u001b[32m64.7/64.7 kB\u001b[0m \u001b[31m1.3 MB/s\u001b[0m eta \u001b[36m0:00:00\u001b[0m\n",
            "\u001b[?25h  Preparing metadata (setup.py) ... \u001b[?25l\u001b[?25hdone\n",
            "Collecting radical.utils>=1.40 (from radical.entk->iceberg)\n",
            "  Downloading radical_utils-1.52.0.tar.gz (163 kB)\n",
            "\u001b[2K     \u001b[90m━━━━━━━━━━━━━━━━━━━━━━━━━━━━━━━━━━━━━━━━\u001b[0m \u001b[32m163.0/163.0 kB\u001b[0m \u001b[31m4.8 MB/s\u001b[0m eta \u001b[36m0:00:00\u001b[0m\n",
            "\u001b[?25h  Preparing metadata (setup.py) ... \u001b[?25l\u001b[?25hdone\n",
            "Collecting radical.pilot>=1.40 (from radical.entk->iceberg)\n",
            "  Downloading radical_pilot-1.52.1.tar.gz (484 kB)\n",
            "\u001b[2K     \u001b[90m━━━━━━━━━━━━━━━━━━━━━━━━━━━━━━━━━━━━━━━━\u001b[0m \u001b[32m484.1/484.1 kB\u001b[0m \u001b[31m10.2 MB/s\u001b[0m eta \u001b[36m0:00:00\u001b[0m\n",
            "\u001b[?25h  Preparing metadata (setup.py) ... \u001b[?25l\u001b[?25hdone\n",
            "Collecting radical.gtod (from radical.pilot>=1.40->radical.entk->iceberg)\n",
            "  Downloading radical_gtod-1.52.0.tar.gz (13 kB)\n",
            "  Preparing metadata (setup.py) ... \u001b[?25l\u001b[?25hdone\n",
            "Collecting psij-python (from radical.pilot>=1.40->radical.entk->iceberg)\n",
            "  Downloading psij_python-0.9.6-py3-none-any.whl.metadata (583 bytes)\n",
            "Collecting setproctitle (from radical.pilot>=1.40->radical.entk->iceberg)\n",
            "  Downloading setproctitle-1.3.3-cp310-cp310-manylinux_2_5_x86_64.manylinux1_x86_64.manylinux_2_17_x86_64.manylinux2014_x86_64.whl.metadata (9.9 kB)\n",
            "Collecting dill (from radical.pilot>=1.40->radical.entk->iceberg)\n",
            "  Downloading dill-0.3.8-py3-none-any.whl.metadata (10 kB)\n",
            "Collecting colorama (from radical.utils>=1.40->radical.entk->iceberg)\n",
            "  Downloading colorama-0.4.6-py2.py3-none-any.whl.metadata (17 kB)\n",
            "Requirement already satisfied: msgpack in /usr/local/lib/python3.10/dist-packages (from radical.utils>=1.40->radical.entk->iceberg) (1.0.8)\n",
            "Collecting netifaces (from radical.utils>=1.40->radical.entk->iceberg)\n",
            "  Downloading netifaces-0.11.0.tar.gz (30 kB)\n",
            "  Preparing metadata (setup.py) ... \u001b[?25l\u001b[?25hdone\n",
            "Collecting ntplib (from radical.utils>=1.40->radical.entk->iceberg)\n",
            "  Downloading ntplib-0.4.0-py2.py3-none-any.whl.metadata (1.6 kB)\n",
            "Requirement already satisfied: pyzmq in /usr/local/lib/python3.10/dist-packages (from radical.utils>=1.40->radical.entk->iceberg) (23.2.1)\n",
            "Requirement already satisfied: regex in /usr/local/lib/python3.10/dist-packages (from radical.utils>=1.40->radical.entk->iceberg) (2023.12.25)\n",
            "Requirement already satisfied: filelock~=3.4 in /usr/local/lib/python3.10/dist-packages (from psij-python->radical.pilot>=1.40->radical.entk->iceberg) (3.13.4)\n",
            "Requirement already satisfied: packaging~=24.0 in /usr/local/lib/python3.10/dist-packages (from psij-python->radical.pilot>=1.40->radical.entk->iceberg) (24.0)\n",
            "Requirement already satisfied: psutil~=5.9 in /usr/local/lib/python3.10/dist-packages (from psij-python->radical.pilot>=1.40->radical.entk->iceberg) (5.9.5)\n",
            "Collecting pystache>=0.6.0 (from psij-python->radical.pilot>=1.40->radical.entk->iceberg)\n",
            "  Downloading pystache-0.6.5-py3-none-any.whl.metadata (14 kB)\n",
            "Collecting typeguard~=2.12 (from psij-python->radical.pilot>=1.40->radical.entk->iceberg)\n",
            "  Downloading typeguard-2.13.3-py3-none-any.whl.metadata (3.6 kB)\n",
            "Collecting typing-compat (from psij-python->radical.pilot>=1.40->radical.entk->iceberg)\n",
            "  Downloading typing_compat-0.1.0-py2.py3-none-any.whl.metadata (2.6 kB)\n",
            "Downloading colorama-0.4.6-py2.py3-none-any.whl (25 kB)\n",
            "Downloading dill-0.3.8-py3-none-any.whl (116 kB)\n",
            "\u001b[2K   \u001b[90m━━━━━━━━━━━━━━━━━━━━━━━━━━━━━━━━━━━━━━━━\u001b[0m \u001b[32m116.3/116.3 kB\u001b[0m \u001b[31m8.7 MB/s\u001b[0m eta \u001b[36m0:00:00\u001b[0m\n",
            "\u001b[?25hDownloading ntplib-0.4.0-py2.py3-none-any.whl (6.8 kB)\n",
            "Downloading psij_python-0.9.6-py3-none-any.whl (88 kB)\n",
            "\u001b[2K   \u001b[90m━━━━━━━━━━━━━━━━━━━━━━━━━━━━━━━━━━━━━━━━\u001b[0m \u001b[32m88.2/88.2 kB\u001b[0m \u001b[31m6.8 MB/s\u001b[0m eta \u001b[36m0:00:00\u001b[0m\n",
            "\u001b[?25hDownloading setproctitle-1.3.3-cp310-cp310-manylinux_2_5_x86_64.manylinux1_x86_64.manylinux_2_17_x86_64.manylinux2014_x86_64.whl (30 kB)\n",
            "Downloading pystache-0.6.5-py3-none-any.whl (81 kB)\n",
            "\u001b[2K   \u001b[90m━━━━━━━━━━━━━━━━━━━━━━━━━━━━━━━━━━━━━━━━\u001b[0m \u001b[32m81.3/81.3 kB\u001b[0m \u001b[31m5.7 MB/s\u001b[0m eta \u001b[36m0:00:00\u001b[0m\n",
            "\u001b[?25hDownloading typeguard-2.13.3-py3-none-any.whl (17 kB)\n",
            "Downloading typing_compat-0.1.0-py2.py3-none-any.whl (7.9 kB)\n",
            "Building wheels for collected packages: iceberg, radical.entk, radical.pilot, radical.utils, netifaces, radical.gtod\n",
            "  Building wheel for iceberg (setup.py) ... \u001b[?25l\u001b[?25hdone\n",
            "  Created wheel for iceberg: filename=iceberg-0.4-py3-none-any.whl size=21193 sha256=b6228236c6e6138f8a80b1455cc4df75dd1b649ddfdea90125d901776663529f\n",
            "  Stored in directory: /root/.cache/pip/wheels/7b/d0/73/8ee013945a3efeaa57c01a1c20d219081c1d0a266af131bf48\n",
            "  Building wheel for radical.entk (setup.py) ... \u001b[?25l\u001b[?25hdone\n",
            "  Created wheel for radical.entk: filename=radical.entk-1.52.0-py3-none-any.whl size=74255 sha256=243595964036ba2c984e56a8a2b50d3538fb425a626d7b2147a45c62245d7801\n",
            "  Stored in directory: /root/.cache/pip/wheels/64/77/ea/56e0b794b55b8fb47a574cbe336acf9bfb91cad0e426392c78\n",
            "  Building wheel for radical.pilot (setup.py) ... \u001b[?25l\u001b[?25hdone\n",
            "  Created wheel for radical.pilot: filename=radical.pilot-1.52.1-py3-none-any.whl size=564520 sha256=07521f6137fdf7a39de9baee06860d1b83a914bf2be8f41dcd0e4bcdde39a356\n",
            "  Stored in directory: /root/.cache/pip/wheels/80/db/f0/7dedddb41afcf32f5bd4ac2ef0465aba2b4be0c56d2de05c11\n",
            "  Building wheel for radical.utils (setup.py) ... \u001b[?25l\u001b[?25hdone\n",
            "  Created wheel for radical.utils: filename=radical.utils-1.52.0-py3-none-any.whl size=180878 sha256=bcf9a0ed033b7525bdf228bbc9457e2bc0d0b8ce631a4593eb625415de378d2e\n",
            "  Stored in directory: /root/.cache/pip/wheels/16/32/b3/bc94868a6c8cd39fe55ab8f6580dca08bae11424a49d125a3a\n",
            "  Building wheel for netifaces (setup.py) ... \u001b[?25l\u001b[?25hdone\n",
            "  Created wheel for netifaces: filename=netifaces-0.11.0-cp310-cp310-linux_x86_64.whl size=35005 sha256=a590cad74041e22ec34b5b25537015f91149088bfe614dbfbfc51a8ccdf0f8b4\n",
            "  Stored in directory: /root/.cache/pip/wheels/48/65/b3/4c4cc6038b81ff21cc9df69f2b6774f5f52e23d3c275ed15aa\n",
            "  Building wheel for radical.gtod (setup.py) ... \u001b[?25l\u001b[?25hdone\n",
            "  Created wheel for radical.gtod: filename=radical.gtod-1.52.0-py3-none-any.whl size=10910 sha256=bfbfd3963749a87b848fe5a6058c20a50ce01dcf25c00a6dfb9e52348ae3f7a8\n",
            "  Stored in directory: /root/.cache/pip/wheels/68/a5/d6/3fa37794c2d906311cb0716c1368afe14977c2d1f416437a64\n",
            "Successfully built iceberg radical.entk radical.pilot radical.utils netifaces radical.gtod\n",
            "Installing collected packages: ntplib, netifaces, typing-compat, typeguard, setproctitle, pystache, dill, colorama, radical.utils, psij-python, radical.gtod, radical.pilot, radical.entk, iceberg\n",
            "Successfully installed colorama-0.4.6 dill-0.3.8 iceberg-0.4 netifaces-0.11.0 ntplib-0.4.0 psij-python-0.9.6 pystache-0.6.5 radical.entk-1.52.0 radical.gtod-1.52.0 radical.pilot-1.52.1 radical.utils-1.52.0 setproctitle-1.3.3 typeguard-2.13.3 typing-compat-0.1.0\n",
            "\u001b[33mWARNING: Running pip as the 'root' user can result in broken permissions and conflicting behaviour with the system package manager. It is recommended to use a virtual environment instead: https://pip.pypa.io/warnings/venv\u001b[0m\u001b[33m\n",
            "\u001b[0m"
          ]
        }
      ]
    },
    {
      "cell_type": "code",
      "source": [
        "# Configuração do Delta Lake\n",
        "from pyspark.sql import SQLContext\n",
        "\n",
        "# Importar Delta Lake\n",
        "spark._jvm.io.delta.tables.DeltaTable\n",
        "\n",
        "sqlContext = SQLContext(spark)"
      ],
      "metadata": {
        "id": "VQeUvcUb9BlZ"
      },
      "execution_count": 6,
      "outputs": []
    },
    {
      "cell_type": "code",
      "source": [
        "# Carregar arquivo CSV como DataFrame Spark\n",
        "df = spark.read.csv('netflix_titles.csv', header=True, inferSchema=True)"
      ],
      "metadata": {
        "id": "FPze8sx39-o2"
      },
      "execution_count": 10,
      "outputs": []
    },
    {
      "cell_type": "code",
      "source": [
        "# Exibir o esquema do DataFrame\n",
        "df.printSchema()\n",
        "\n",
        "# Contar o número de linhas no DataFrame\n",
        "print(\"Número de linhas:\", df.count())\n",
        "\n",
        "# Mostrar as primeiras linhas do DataFrame\n",
        "df.show()"
      ],
      "metadata": {
        "colab": {
          "base_uri": "https://localhost:8080/"
        },
        "id": "N2zcOGmW_f9R",
        "outputId": "0291d7ad-239b-4f1a-a277-57564ab1b5f1"
      },
      "execution_count": 14,
      "outputs": [
        {
          "output_type": "stream",
          "name": "stdout",
          "text": [
            "root\n",
            " |-- show_id: string (nullable = true)\n",
            " |-- type: string (nullable = true)\n",
            " |-- title: string (nullable = true)\n",
            " |-- director: string (nullable = true)\n",
            " |-- cast: string (nullable = true)\n",
            " |-- country: string (nullable = true)\n",
            " |-- date_added: string (nullable = true)\n",
            " |-- release_year: string (nullable = true)\n",
            " |-- rating: string (nullable = true)\n",
            " |-- duration: string (nullable = true)\n",
            " |-- listed_in: string (nullable = true)\n",
            " |-- description: string (nullable = true)\n",
            " |-- _c12: string (nullable = true)\n",
            " |-- _c13: string (nullable = true)\n",
            " |-- _c14: string (nullable = true)\n",
            " |-- _c15: string (nullable = true)\n",
            " |-- _c16: string (nullable = true)\n",
            " |-- _c17: string (nullable = true)\n",
            " |-- _c18: string (nullable = true)\n",
            " |-- _c19: string (nullable = true)\n",
            " |-- _c20: string (nullable = true)\n",
            " |-- _c21: string (nullable = true)\n",
            " |-- _c22: string (nullable = true)\n",
            " |-- _c23: string (nullable = true)\n",
            " |-- _c24: string (nullable = true)\n",
            " |-- _c25: string (nullable = true)\n",
            "\n",
            "Número de linhas: 8811\n",
            "+-------+-------+--------------------+--------------------+--------------------+--------------------+------------------+------------+------+---------+--------------------+--------------------+----+----+----+----+----+----+----+----+----+----+----+----+----+----+\n",
            "|show_id|   type|               title|            director|                cast|             country|        date_added|release_year|rating| duration|           listed_in|         description|_c12|_c13|_c14|_c15|_c16|_c17|_c18|_c19|_c20|_c21|_c22|_c23|_c24|_c25|\n",
            "+-------+-------+--------------------+--------------------+--------------------+--------------------+------------------+------------+------+---------+--------------------+--------------------+----+----+----+----+----+----+----+----+----+----+----+----+----+----+\n",
            "|     s1|  Movie|Dick Johnson Is Dead|     Kirsten Johnson|                NULL|       United States|September 25, 2021|        2020| PG-13|   90 min|       Documentaries|As her father nea...|NULL|NULL|NULL|NULL|NULL|NULL|NULL|NULL|NULL|NULL|NULL|NULL|NULL|NULL|\n",
            "|     s2|TV Show|       Blood & Water|                NULL|Ama Qamata, Khosi...|        South Africa|September 24, 2021|        2021| TV-MA|2 Seasons|International TV ...|After crossing pa...|NULL|NULL|NULL|NULL|NULL|NULL|NULL|NULL|NULL|NULL|NULL|NULL|NULL|NULL|\n",
            "|     s3|TV Show|           Ganglands|     Julien Leclercq|Sami Bouajila, Tr...|                NULL|September 24, 2021|        2021| TV-MA| 1 Season|Crime TV Shows, I...|To protect his fa...|NULL|NULL|NULL|NULL|NULL|NULL|NULL|NULL|NULL|NULL|NULL|NULL|NULL|NULL|\n",
            "|     s4|TV Show|Jailbirds New Orl...|                NULL|                NULL|                NULL|September 24, 2021|        2021| TV-MA| 1 Season|Docuseries, Reali...|Feuds, flirtation...|NULL|NULL|NULL|NULL|NULL|NULL|NULL|NULL|NULL|NULL|NULL|NULL|NULL|NULL|\n",
            "|     s5|TV Show|        Kota Factory|                NULL|Mayur More, Jiten...|               India|September 24, 2021|        2021| TV-MA|2 Seasons|International TV ...|In a city of coac...|NULL|NULL|NULL|NULL|NULL|NULL|NULL|NULL|NULL|NULL|NULL|NULL|NULL|NULL|\n",
            "|     s6|TV Show|       Midnight Mass|       Mike Flanagan|Kate Siegel, Zach...|                NULL|September 24, 2021|        2021| TV-MA| 1 Season|TV Dramas, TV Hor...|The arrival of a ...|NULL|NULL|NULL|NULL|NULL|NULL|NULL|NULL|NULL|NULL|NULL|NULL|NULL|NULL|\n",
            "|     s7|  Movie|My Little Pony: A...|Robert Cullen, Jo...|Vanessa Hudgens, ...|                NULL|September 24, 2021|        2021|    PG|   91 min|Children & Family...|Equestria's divid...|NULL|NULL|NULL|NULL|NULL|NULL|NULL|NULL|NULL|NULL|NULL|NULL|NULL|NULL|\n",
            "|     s8|  Movie|             Sankofa|        Haile Gerima|Kofi Ghanaba, Oya...|United States, Gh...|September 24, 2021|        1993| TV-MA|  125 min|Dramas, Independe...|On a photo shoot ...|NULL|NULL|NULL|NULL|NULL|NULL|NULL|NULL|NULL|NULL|NULL|NULL|NULL|NULL|\n",
            "|     s9|TV Show|The Great British...|     Andy Devonshire|Mel Giedroyc, Sue...|      United Kingdom|September 24, 2021|        2021| TV-14|9 Seasons|British TV Shows,...|A talented batch ...|NULL|NULL|NULL|NULL|NULL|NULL|NULL|NULL|NULL|NULL|NULL|NULL|NULL|NULL|\n",
            "|    s10|  Movie|        The Starling|      Theodore Melfi|Melissa McCarthy,...|       United States|September 24, 2021|        2021| PG-13|  104 min|    Comedies, Dramas|A woman adjusting...|NULL|NULL|NULL|NULL|NULL|NULL|NULL|NULL|NULL|NULL|NULL|NULL|NULL|NULL|\n",
            "|    s11|TV Show|Vendetta: Truth, ...|                NULL|                NULL|                NULL|September 24, 2021|        2021| TV-MA| 1 Season|Crime TV Shows, D...|\"Sicily boasts a ...|NULL|NULL|NULL|NULL|NULL|NULL|NULL|NULL|NULL|NULL|NULL|NULL|NULL|NULL|\n",
            "|    s12|TV Show|    Bangkok Breaking|   Kongkiat Komesiri|Sukollawat Kanaro...|                NULL|September 23, 2021|        2021| TV-MA| 1 Season|Crime TV Shows, I...|Struggling to ear...|NULL|NULL|NULL|NULL|NULL|NULL|NULL|NULL|NULL|NULL|NULL|NULL|NULL|NULL|\n",
            "|    s13|  Movie|        Je Suis Karl| Christian Schwochow|Luna Wedler, Jann...|Germany, Czech Re...|September 23, 2021|        2021| TV-MA|  127 min|Dramas, Internati...|After most of her...|NULL|NULL|NULL|NULL|NULL|NULL|NULL|NULL|NULL|NULL|NULL|NULL|NULL|NULL|\n",
            "|    s14|  Movie|Confessions of an...|       Bruno Garotti|Klara Castanho, L...|                NULL|September 22, 2021|        2021| TV-PG|   91 min|Children & Family...|When the clever b...|NULL|NULL|NULL|NULL|NULL|NULL|NULL|NULL|NULL|NULL|NULL|NULL|NULL|NULL|\n",
            "|    s15|TV Show|Crime Stories: In...|                NULL|                NULL|                NULL|September 22, 2021|        2021| TV-MA| 1 Season|British TV Shows,...|Cameras following...|NULL|NULL|NULL|NULL|NULL|NULL|NULL|NULL|NULL|NULL|NULL|NULL|NULL|NULL|\n",
            "|    s16|TV Show|   Dear White People|                NULL|Logan Browning, B...|       United States|September 22, 2021|        2021| TV-MA|4 Seasons|TV Comedies, TV D...|\"Students of colo...|NULL|NULL|NULL|NULL|NULL|NULL|NULL|NULL|NULL|NULL|NULL|NULL|NULL|NULL|\n",
            "|    s17|  Movie|Europe's Most Dan...|Pedro de Echave G...|                NULL|                NULL|September 22, 2021|        2020| TV-MA|   67 min|Documentaries, In...|Declassified docu...|NULL|NULL|NULL|NULL|NULL|NULL|NULL|NULL|NULL|NULL|NULL|NULL|NULL|NULL|\n",
            "|    s18|TV Show|     Falsa identidad|                NULL|Luis Ernesto Fran...|              Mexico|September 22, 2021|        2020| TV-MA|2 Seasons|Crime TV Shows, S...|Strangers Diego a...|NULL|NULL|NULL|NULL|NULL|NULL|NULL|NULL|NULL|NULL|NULL|NULL|NULL|NULL|\n",
            "|    s19|  Movie|           Intrusion|          Adam Salky|Freida Pinto, Log...|                NULL|September 22, 2021|        2021| TV-14|   94 min|           Thrillers|After a deadly ho...|NULL|NULL|NULL|NULL|NULL|NULL|NULL|NULL|NULL|NULL|NULL|NULL|NULL|NULL|\n",
            "|    s20|TV Show|              Jaguar|                NULL|Blanca Suárez, Iv...|                NULL|September 22, 2021|        2021| TV-MA| 1 Season|International TV ...|In the 1960s, a H...|NULL|NULL|NULL|NULL|NULL|NULL|NULL|NULL|NULL|NULL|NULL|NULL|NULL|NULL|\n",
            "+-------+-------+--------------------+--------------------+--------------------+--------------------+------------------+------------+------+---------+--------------------+--------------------+----+----+----+----+----+----+----+----+----+----+----+----+----+----+\n",
            "only showing top 20 rows\n",
            "\n"
          ]
        }
      ]
    }
  ]
}