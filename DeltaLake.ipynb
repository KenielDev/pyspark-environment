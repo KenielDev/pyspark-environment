{
  "cells": [
    {
      "cell_type": "markdown",
      "metadata": {
        "colab_type": "text",
        "id": "view-in-github"
      },
      "source": [
        "<a href=\"https://colab.research.google.com/github/KenielDev/pyspark-environment/blob/main/DeltaLake.ipynb\" target=\"_parent\"><img src=\"https://colab.research.google.com/assets/colab-badge.svg\" alt=\"Open In Colab\"/></a>"
      ]
    },
    {
      "cell_type": "code",
      "execution_count": null,
      "metadata": {
        "colab": {
          "base_uri": "https://localhost:8080/"
        },
        "id": "nrc4IX65ypMc",
        "outputId": "84a73002-55d6-49fb-9492-545aea7af59e"
      },
      "outputs": [],
      "source": [
        "# Instalação do PySpark\n",
        "!pip install pyspark\n",
        "\n",
        "# Configuração do ambiente Spark\n",
        "from pyspark.sql import SparkSession\n",
        "\n",
        "spark = SparkSession.builder \\\n",
        "    .appName(\"PySpark with Delta Lake and Iceberg\") \\\n",
        "    .config(\"spark.jars.packages\", \"io.delta:delta-core_2.12:1.1.0,org.apache.iceberg:iceberg-spark3-runtime:0.12.0\") \\\n",
        "    .config(\"spark.sql.extensions\", \"io.delta.sql.DeltaSparkSessionExtension\") \\\n",
        "    .config(\"spark.sql.catalog.spark_catalog\", \"org.apache.iceberg.spark.SparkSessionCatalog\") \\\n",
        "    .config(\"spark.sql.catalog.spark_catalog.type\", \"hive\") \\\n",
        "    .enableHiveSupport() \\\n",
        "    .getOrCreate()\n"
      ]
    },
    {
      "cell_type": "code",
      "execution_count": null,
      "metadata": {
        "id": "pAbEGh24461L"
      },
      "outputs": [],
      "source": [
        "from google.colab import drive\n",
        "drive.mount('/content/drive')"
      ]
    },
    {
      "cell_type": "code",
      "execution_count": null,
      "metadata": {
        "colab": {
          "base_uri": "https://localhost:8080/"
        },
        "id": "88z2__l_zLhj",
        "outputId": "92b94f71-b857-49d5-f185-f77d36913e4b"
      },
      "outputs": [],
      "source": [
        "# Teste do Spark\n",
        "spark.range(5).toDF(\"id\").show()\n"
      ]
    },
    {
      "cell_type": "code",
      "execution_count": null,
      "metadata": {
        "colab": {
          "base_uri": "https://localhost:8080/"
        },
        "id": "k8q2aVz-3otb",
        "outputId": "91cf4383-36d7-4dd6-a895-44d42fd52b94"
      },
      "outputs": [],
      "source": [
        "# Instalação do Delta Lake\n",
        "!pip install delta-spark"
      ]
    },
    {
      "cell_type": "code",
      "execution_count": null,
      "metadata": {
        "colab": {
          "base_uri": "https://localhost:8080/"
        },
        "id": "6pi5w9mg5PQO",
        "outputId": "f00ca0af-09b2-42b0-eeb8-10f7cc2532d7"
      },
      "outputs": [],
      "source": [
        "# Instalação do Apache Iceberg para o Spark disponível no Colab\n",
        "!pip install iceberg"
      ]
    },
    {
      "cell_type": "code",
      "execution_count": 6,
      "metadata": {
        "id": "VQeUvcUb9BlZ"
      },
      "outputs": [],
      "source": [
        "# Configuração do Delta Lake\n",
        "from pyspark.sql import SQLContext\n",
        "\n",
        "# Importar Delta Lake\n",
        "spark._jvm.io.delta.tables.DeltaTable\n",
        "\n",
        "sqlContext = SQLContext(spark)"
      ]
    },
    {
      "cell_type": "code",
      "execution_count": 10,
      "metadata": {
        "id": "FPze8sx39-o2"
      },
      "outputs": [],
      "source": [
        "# Carregar arquivo CSV como DataFrame Spark\n",
        "df = spark.read.csv('netflix_titles.csv', header=True, inferSchema=True)"
      ]
    },
    {
      "cell_type": "code",
      "execution_count": null,
      "metadata": {
        "colab": {
          "base_uri": "https://localhost:8080/"
        },
        "id": "N2zcOGmW_f9R",
        "outputId": "0291d7ad-239b-4f1a-a277-57564ab1b5f1"
      },
      "outputs": [],
      "source": [
        "# Exibir o esquema do DataFrame\n",
        "df.printSchema()\n",
        "\n",
        "# Contar o número de linhas no DataFrame\n",
        "print(\"Número de linhas:\", df.count())\n",
        "\n",
        "# Mostrar as primeiras linhas do DataFrame\n",
        "df.show()"
      ]
    }
  ],
  "metadata": {
    "colab": {
      "authorship_tag": "ABX9TyO85loOGN6JM1q6WnaItqNk",
      "include_colab_link": true,
      "provenance": []
    },
    "kernelspec": {
      "display_name": "Python 3",
      "name": "python3"
    },
    "language_info": {
      "name": "python"
    }
  },
  "nbformat": 4,
  "nbformat_minor": 0
}
